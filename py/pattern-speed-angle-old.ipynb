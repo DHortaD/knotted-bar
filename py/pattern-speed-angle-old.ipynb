{
 "cells": [
  {
   "cell_type": "code",
   "execution_count": 59,
   "id": "a16e23e4",
   "metadata": {},
   "outputs": [],
   "source": [
    "import matplotlib.pyplot as plt\n",
    "# %matplotlib inline\n",
    "import numpy as np\n",
    "from astropy.io import fits\n",
    "import tqdm\n",
    "from matplotlib import rc\n",
    "rc('font',**{'family':'serif','serif':['Times']})\n",
    "rc('text', usetex=True)\n",
    "import nmmn.plots\n",
    "import vorbin\n",
    "wolfram=nmmn.plots.wolframcmap() # for Mathematica's cmap\n",
    "parula=nmmn.plots.parulacmap() # for MATLAB's cmap\n",
    "turbo=nmmn.plots.turbocmap() # Turbo\n",
    "import warnings\n",
    "warnings.filterwarnings('ignore')"
   ]
  },
  {
   "cell_type": "code",
   "execution_count": 60,
   "id": "179c8f3c",
   "metadata": {},
   "outputs": [],
   "source": [
    "# LOAD THE DATA\n",
    "# this is the latest APOGEE catalogue that APW sent me with orbital properties determined using StarHorse distances\n",
    "\n",
    "path = '/Users/dhortadarrington/Documents/Projects/mw-bar/data/kbd-0-1.fits'\n",
    "tb = fits.open(path)\n",
    "data = tb[1].data \n",
    "\n",
    "path2 = '/Users/dhortadarrington/Documents/Projects/mw-bar/data/kbd-05-15.fits'\n",
    "tb2 = fits.open(path2)\n",
    "data2 = tb2[1].data \n",
    "\n",
    "path3 = '/Users/dhortadarrington/Documents/Projects/mw-bar/data/kbd-1-2.fits'\n",
    "tb3 = fits.open(path3)\n",
    "data3 = tb3[1].data \n",
    "\n",
    "path4 = '/Users/dhortadarrington/Documents/Projects/mw-bar/data/kbd-15-25.fits'\n",
    "tb4 = fits.open(path4)\n",
    "data4 = tb4[1].data \n",
    "\n",
    "path5 = '/Users/dhortadarrington/Documents/Projects/mw-bar/data/kbd-2-3.fits'\n",
    "tb5 = fits.open(path5)\n",
    "data5 = tb5[1].data \n",
    "\n",
    "path6 = '/Users/dhortadarrington/Documents/Projects/mw-bar/data/kbd-25-35.fits'\n",
    "tb6 = fits.open(path6)\n",
    "data6 = tb6[1].data \n",
    "\n",
    "path7 = '/Users/dhortadarrington/Documents/Projects/mw-bar/data/kbd-3-4.fits'\n",
    "tb7 = fits.open(path7)\n",
    "data7 = tb7[1].data \n",
    "\n",
    "path8 = '/Users/dhortadarrington/Documents/Projects/mw-bar/data/kbd-4-5.fits'\n",
    "tb8 = fits.open(path8)\n",
    "data8 = tb8[1].data \n"
   ]
  },
  {
   "cell_type": "code",
   "execution_count": 61,
   "id": "143b7df2",
   "metadata": {},
   "outputs": [],
   "source": [
    "# pick out the knot, bar, and disc components in every bin\n",
    "\n",
    "def get_L(data,threshold=0.8):\n",
    "    \n",
    "    knot_stars = (data['P_knot']>0.8)&(data['s_knot']<0.15)\n",
    "    bar_stars = (data['P_bar']>0.8)&(data['s_bar']<0.15)\n",
    "    disc_stars = (data['P_disc']>0.8)&(data['s_disc']<0.15)\n",
    "\n",
    "    return np.dstack((data['Lx'][knot_stars],data['Ly'][knot_stars],data['Lz'][knot_stars]))[0],\\\n",
    "        np.dstack((data['Lx'][bar_stars],data['Ly'][bar_stars],data['Lz'][bar_stars]))[0],\\\n",
    "        np.dstack((data['Lx'][disc_stars],data['Ly'][disc_stars],data['Lz'][disc_stars]))[0]\n"
   ]
  },
  {
   "cell_type": "code",
   "execution_count": 62,
   "id": "b024d347",
   "metadata": {},
   "outputs": [],
   "source": [
    "def get_LxLyLz(data,threshold=0.8):\n",
    "    \n",
    "    knot_stars = (data['P_knot']>0.8)&(data['s_knot']<0.15)\n",
    "    bar_stars = (data['P_bar']>0.8)&(data['s_bar']<0.15)\n",
    "    disc_stars = (data['P_disc']>0.8)&(data['s_disc']<0.15)\n",
    "\n",
    "    return data['Lx'][knot_stars],data['Ly'][knot_stars],data['Lz'][knot_stars],\\\n",
    "        data['Lx'][bar_stars],data['Ly'][bar_stars],data['Lz'][bar_stars],\\\n",
    "        data['Lx'][disc_stars],data['Ly'][disc_stars],data['Lz'][disc_stars]\n"
   ]
  },
  {
   "cell_type": "code",
   "execution_count": 63,
   "id": "c8d98366",
   "metadata": {},
   "outputs": [],
   "source": [
    "def get_ids(data,threshold=0.8):\n",
    "    \n",
    "    knot_stars = (data['P_knot']>0.8)&(data['s_knot']<0.15)\n",
    "    bar_stars = (data['P_bar']>0.8)&(data['s_bar']<0.15)\n",
    "    disc_stars = (data['P_disc']>0.8)&(data['s_disc']<0.15)\n",
    "\n",
    "    return data['APOGEE_ID'][knot_stars],data['APOGEE_ID'][bar_stars],data['APOGEE_ID'][disc_stars]\n"
   ]
  },
  {
   "cell_type": "code",
   "execution_count": 64,
   "id": "f23be668",
   "metadata": {},
   "outputs": [
    {
     "data": {
      "application/vnd.jupyter.widget-view+json": {
       "model_id": "271053f08d7146f49212eca0488c5241",
       "version_major": 2,
       "version_minor": 0
      },
      "text/plain": [
       "0it [00:00, ?it/s]"
      ]
     },
     "metadata": {},
     "output_type": "display_data"
    }
   ],
   "source": [
    "Lxknot = []\n",
    "Lxbar = []\n",
    "Lxdisc = []\n",
    "Lyknot = []\n",
    "Lybar = []\n",
    "Lydisc = []\n",
    "Lzknot = []\n",
    "Lzbar = []\n",
    "Lzdisc = []\n",
    "\n",
    "Ltotknot = []\n",
    "Ltotbar = []\n",
    "Ltotdisc = []\n",
    "\n",
    "\n",
    "datas = [data,data2,data3,data4,data5,data6,data7,data8]\n",
    "\n",
    "for indx, i in tqdm.tqdm_notebook(enumerate(datas)):\n",
    "    Lxknot0,Lyknot0,Lzknot0, Lxbar0,Lybar0,Lzbar0, Lxdisc0,Lydisc0,Lzdisc0 = get_LxLyLz(i)\n",
    "    \n",
    "    Lxknot.append(Lxknot0)\n",
    "    Lxbar.append(Lxbar0)\n",
    "    Lxdisc.append(Lxdisc0)\n",
    "    Lyknot.append(Lyknot0)\n",
    "    Lybar.append(Lybar0)\n",
    "    Lydisc.append(Lydisc0)\n",
    "    Lzknot.append(Lzknot0)\n",
    "    Lzbar.append(Lzbar0)\n",
    "    Lzdisc.append(Lzdisc0)\n",
    "    \n",
    "    Ltotknot.append(np.sqrt(Lxknot0**2+Lyknot0**2+Lzknot0**2))\n",
    "    Ltotbar.append(np.sqrt(Lxbar0**2+Lybar0**2+Lzbar0**2))\n",
    "    Ltotdisc.append(np.sqrt(Lxdisc0**2+Lydisc0**2+Lzdisc0**2))\n"
   ]
  },
  {
   "cell_type": "code",
   "execution_count": 65,
   "id": "bcdbd9bd",
   "metadata": {},
   "outputs": [
    {
     "data": {
      "application/vnd.jupyter.widget-view+json": {
       "model_id": "f68989bf0e2e42aeb87b71ea7da086f8",
       "version_major": 2,
       "version_minor": 0
      },
      "text/plain": [
       "0it [00:00, ?it/s]"
      ]
     },
     "metadata": {},
     "output_type": "display_data"
    }
   ],
   "source": [
    "Lknot = []\n",
    "Lbar = []\n",
    "Ldisc = []\n",
    "\n",
    "\n",
    "for indx, i in tqdm.tqdm_notebook(enumerate(datas)):\n",
    "    Lknot0,Lbar0,Ldisc0 = get_L(i)\n",
    "    \n",
    "    Lknot.append(Lknot0)\n",
    "    Lbar.append(Lbar0)\n",
    "    Ldisc.append(Ldisc0)\n",
    "    "
   ]
  },
  {
   "cell_type": "code",
   "execution_count": 66,
   "id": "ce018def",
   "metadata": {},
   "outputs": [
    {
     "data": {
      "application/vnd.jupyter.widget-view+json": {
       "model_id": "eaa03a98a3c34f48b7465650a681f1fa",
       "version_major": 2,
       "version_minor": 0
      },
      "text/plain": [
       "0it [00:00, ?it/s]"
      ]
     },
     "metadata": {},
     "output_type": "display_data"
    }
   ],
   "source": [
    "idsknot = []\n",
    "idsbar = []\n",
    "idsdisc = []\n",
    "\n",
    "for indx, i in tqdm.tqdm_notebook(enumerate(datas)):\n",
    "    idsknot0,idsbar0,idsdisc0= get_ids(i)\n",
    "    \n",
    "    idsknot.extend(idsknot0)\n",
    "    idsbar.extend(idsbar0)\n",
    "    idsdisc.extend(idsdisc0)\n",
    "    "
   ]
  },
  {
   "cell_type": "code",
   "execution_count": 67,
   "id": "26d3ca9f",
   "metadata": {},
   "outputs": [],
   "source": [
    "path_m = '/Users/dhortadarrington/Documents/Master/data/dr17_dr3_McMillan_astroNN_rev1.fits'\n",
    "tb_m = fits.open(path_m)\n",
    "data_m = tb_m[1].data "
   ]
  },
  {
   "cell_type": "code",
   "execution_count": 68,
   "id": "5219c85a",
   "metadata": {},
   "outputs": [],
   "source": [
    "mask_knot = np.isin(data_m['APOGEE_ID_1'],idsknot)\n",
    "mask_bar = np.isin(data_m['APOGEE_ID_1'],idsbar)\n",
    "mask_disc = np.isin(data_m['APOGEE_ID_1'],idsdisc)"
   ]
  },
  {
   "cell_type": "markdown",
   "id": "c51eb4c2",
   "metadata": {},
   "source": [
    "# Plot the pattern speed of the bar as a function of radius"
   ]
  },
  {
   "cell_type": "code",
   "execution_count": 69,
   "id": "71536d27",
   "metadata": {},
   "outputs": [],
   "source": [
    "means_lz_bar = np.zeros((len(Lzbar)))\n",
    "sigma_lz_bar = np.zeros((len(Lzbar)))\n",
    "\n",
    "means_lz_disc = np.zeros((len(Lzdisc)))\n",
    "sigma_lz_disc = np.zeros((len(Lzdisc)))\n",
    "\n",
    "means_lz_knot = np.zeros((len(Lzknot)))\n",
    "sigma_lz_knot = np.zeros((len(Lzknot)))\n",
    "\n",
    "for indx, i in enumerate(Lzbar):\n",
    "    means_lz_bar[indx] = np.abs(np.nanmean(i))\n",
    "    sigma_lz_bar[indx] = np.abs(np.nanstd(i))\n",
    "    \n",
    "    means_lz_disc[indx] = np.abs(np.nanmean(Lzdisc[indx]))\n",
    "    sigma_lz_disc[indx] = np.abs(np.nanstd(Lzdisc[indx]))\n",
    "    \n",
    "    means_lz_knot[indx] = np.abs(np.nanmean(Lzknot[indx]))\n",
    "    sigma_lz_knot[indx] = np.abs(np.nanstd(Lzknot[indx]))\n"
   ]
  },
  {
   "cell_type": "code",
   "execution_count": 70,
   "id": "b5a19ab5",
   "metadata": {},
   "outputs": [
    {
     "data": {
      "text/plain": [
       "array([  8.32126687,   8.61812883,   6.06521247,  26.08775615,\n",
       "        44.68004227, 169.43678115, 211.1481625 ,          nan])"
      ]
     },
     "execution_count": 70,
     "metadata": {},
     "output_type": "execute_result"
    }
   ],
   "source": [
    "means_lz_bar"
   ]
  },
  {
   "cell_type": "code",
   "execution_count": 96,
   "id": "bc2715a9",
   "metadata": {},
   "outputs": [
    {
     "data": {
      "text/plain": [
       "(-100.0, 800.0)"
      ]
     },
     "execution_count": 96,
     "metadata": {},
     "output_type": "execute_result"
    },
    {
     "data": {
      "image/png": "[encoded data removed]",
      "text/plain": [
       "<Figure size 576x432 with 1 Axes>"
      ]
     },
     "metadata": {},
     "output_type": "display_data"
    }
   ],
   "source": [
    "xs = np.array([.5,1.0,1.5,2.0,2.5,3.0])\n",
    "\n",
    "plt.figure(figsize=(8,6),facecolor='white')\n",
    "# plt.title('Bar',fontsize=30)\n",
    "plt.errorbar(xs**2,means_lz_disc[:-2],yerr = sigma_lz_disc[:-2],fmt='o',markersize=9, color='limegreen',ecolor='limegreen', elinewidth=1, capsize=5,label='Disc')\n",
    "plt.errorbar(xs**2,means_lz_bar[:-2],yerr = sigma_lz_bar[:-2],fmt='o',markersize=9, color='r',ecolor='r', elinewidth=1, capsize=5,label='Bar')\n",
    "plt.errorbar(xs**2,means_lz_knot[:-2],yerr = sigma_lz_knot[:-2],fmt='o',markersize=9, color='indigo',ecolor='indigo', elinewidth=1, capsize=5,label='Knot')\n",
    "plt.xlabel(r'$R^{2}$ [kpc$^{2}$]',fontsize=25)\n",
    "plt.ylabel(r'L$_{z}$ [kpc km/s]',fontsize=25)\n",
    "plt.legend(loc='upper left',fontsize=20,frameon=False)\n",
    "plt.tick_params(which='major',labelsize=16,direction='in',top=True,right=True,length=8)\n",
    "plt.tick_params(which='minor', length=4, direction='in',top=True,right=True)\n",
    "plt.minorticks_on()\n",
    "# plt.yscale('log')\n",
    "plt.xlim(0,10)\n",
    "plt.ylim(-100,800)\n"
   ]
  },
  {
   "cell_type": "code",
   "execution_count": 99,
   "id": "81ceefd4",
   "metadata": {},
   "outputs": [
    {
     "name": "stderr",
     "output_type": "stream",
     "text": [
      "No artists with labels found to put in legend.  Note that artists whose label start with an underscore are ignored when legend() is called with no argument.\n"
     ]
    },
    {
     "data": {
      "text/plain": [
       "(0.0, 90.0)"
      ]
     },
     "execution_count": 99,
     "metadata": {},
     "output_type": "execute_result"
    },
    {
     "data": {
      "image/png": "[encoded data removed]",
      "text/plain": [
       "<Figure size 1152x432 with 2 Axes>"
      ]
     },
     "metadata": {},
     "output_type": "display_data"
    }
   ],
   "source": [
    "plt.figure(figsize=(16,6),facecolor='white',constrained_layout=True)\n",
    "\n",
    "plt.subplot(1,2,1)\n",
    "xs = np.array([.5,1.0,1.5,2.0,2.5,3.0])\n",
    "\n",
    "# plt.title('Bar',fontsize=30)\n",
    "plt.errorbar(xs**2,means_lz_disc[:-2],yerr = sigma_lz_disc[:-2],fmt='o',markersize=9, color='limegreen',ecolor='limegreen', elinewidth=1, capsize=5,label='Disc')\n",
    "plt.errorbar(xs**2,means_lz_bar[:-2],yerr = sigma_lz_bar[:-2],fmt='o',markersize=9, color='r',ecolor='r', elinewidth=1, capsize=5,label='Bar')\n",
    "plt.errorbar(xs**2,means_lz_knot[:-2],yerr = sigma_lz_knot[:-2],fmt='o',markersize=9, color='indigo',ecolor='indigo', elinewidth=1, capsize=5,label='Knot')\n",
    "plt.xlabel(r'$R^{2}$ [kpc$^{2}$]',fontsize=25)\n",
    "plt.ylabel(r'L$_{z}$ [kpc km/s]',fontsize=25)\n",
    "plt.legend(loc='upper left',fontsize=20,frameon=False)\n",
    "plt.tick_params(which='major',labelsize=16,direction='in',top=True,right=True,length=8)\n",
    "plt.tick_params(which='minor', length=4, direction='in',top=True,right=True)\n",
    "plt.minorticks_on()\n",
    "# plt.yscale('log')\n",
    "plt.xlim(0,10)\n",
    "plt.ylim(-100,800)\n",
    "\n",
    "plt.subplot(1,2,2)\n",
    "bar_angle_mean = np.array([42.7,33.6,35.6, 47.3,63.5,71.6,72.2])\n",
    "bar_angle_up = np.array([2.7,3.1,4.3,3.9,1.9,1.1,1.3])\n",
    "bar_angle_down = np.array([2.8,3.,4.1,4.1,2.,1.1,1.2])\n",
    "\n",
    "knot_angle_mean = np.array([17.6,20.2,28.1,25.1])\n",
    "knot_angle_up = np.array([7.3,5.7,4.4,4.1])\n",
    "knot_angle_down = np.array([6.6,5.3,4.2,3.9])\n",
    "\n",
    "\n",
    "# plt.title('Bar',fontsize=30)\n",
    "plt.errorbar(np.array([0.5,1.,1.5,2.,2.5,3.,3.5]),90-bar_angle_mean,yerr = [bar_angle_up,bar_angle_down],fmt='o',markersize=9, color='r',ecolor='r', elinewidth=1, capsize=5)\n",
    "plt.errorbar(np.array([0.5,1.,1.5,2.]),90-knot_angle_mean,yerr = [knot_angle_up,knot_angle_down],fmt='o',markersize=9, color='indigo',ecolor='indigo', elinewidth=1, capsize=5)\n",
    "plt.xlabel(r'$R$ [kpc]',fontsize=25)\n",
    "plt.ylabel(r'$\\theta_{\\mathrm{bar}}$ [degrees]',fontsize=25)\n",
    "plt.legend(loc='upper left',fontsize=20,frameon=False)\n",
    "plt.tick_params(which='major',labelsize=16,direction='in',top=True,right=True,length=8)\n",
    "plt.tick_params(which='minor', length=4, direction='in',top=True,right=True)\n",
    "plt.minorticks_on()\n",
    "# plt.yscale('log')\n",
    "plt.xlim(0,4)\n",
    "plt.ylim(0,90)\n",
    "\n",
    "\n",
    "\n"
   ]
  },
  {
   "cell_type": "markdown",
   "id": "d7f7592c",
   "metadata": {},
   "source": [
    "# Use the centroid values, not the mean of the stars"
   ]
  },
  {
   "cell_type": "code",
   "execution_count": null,
   "id": "1bca74aa",
   "metadata": {},
   "outputs": [],
   "source": [
    "bar_lz_mean = np.array([])\n",
    "bar_lz_up = np.array([])\n",
    "bar_lz_down = np.array([])\n",
    "\n",
    "\n",
    "\n",
    "\n"
   ]
  },
  {
   "cell_type": "code",
   "execution_count": null,
   "id": "a1fc247b",
   "metadata": {},
   "outputs": [],
   "source": []
  },
  {
   "cell_type": "code",
   "execution_count": null,
   "id": "2fc8581e",
   "metadata": {},
   "outputs": [],
   "source": []
  },
  {
   "cell_type": "code",
   "execution_count": null,
   "id": "b51a37c1",
   "metadata": {},
   "outputs": [],
   "source": []
  },
  {
   "cell_type": "code",
   "execution_count": null,
   "id": "1f3c1d76",
   "metadata": {},
   "outputs": [],
   "source": []
  },
  {
   "cell_type": "code",
   "execution_count": 87,
   "id": "9c09825a",
   "metadata": {},
   "outputs": [
    {
     "name": "stdout",
     "output_type": "stream",
     "text": [
      "4\n"
     ]
    }
   ],
   "source": [
    "print(len(knot_angle_mean))"
   ]
  },
  {
   "cell_type": "code",
   "execution_count": 90,
   "id": "4af96b68",
   "metadata": {},
   "outputs": [
    {
     "name": "stderr",
     "output_type": "stream",
     "text": [
      "No artists with labels found to put in legend.  Note that artists whose label start with an underscore are ignored when legend() is called with no argument.\n"
     ]
    },
    {
     "data": {
      "text/plain": [
       "(0.0, 90.0)"
      ]
     },
     "execution_count": 90,
     "metadata": {},
     "output_type": "execute_result"
    },
    {
     "data": {
      "image/png": "[encoded data removed]",
      "text/plain": [
       "<Figure size 576x432 with 1 Axes>"
      ]
     },
     "metadata": {},
     "output_type": "display_data"
    }
   ],
   "source": [
    "# bar_angle_mean = np.array([76.9,76.5,74., 69.5,74.4,73.6])\n",
    "# bar_angle_up = np.array([7.4,3.5,2.0,2.1,0.6,0.9])\n",
    "# bar_angle_down = np.array([6.6,3.6,2.0,2.1,0.6,0.9])\n",
    "bar_angle_mean = np.array([42.7,33.6,35.6, 47.3,63.5,71.6,72.2])\n",
    "bar_angle_up = np.array([2.7,3.1,4.3,3.9,1.9,1.1,1.3])\n",
    "bar_angle_down = np.array([2.8,3.,4.1,4.1,2.,1.1,1.2])\n",
    "\n",
    "knot_angle_mean = np.array([17.6,20.2,28.1,25.1])\n",
    "knot_angle_up = np.array([7.3,5.7,4.4,4.1])\n",
    "knot_angle_down = np.array([6.6,5.3,4.2,3.9])\n",
    "\n",
    "\n",
    "\n",
    "\n",
    "plt.figure(figsize=(8,6),facecolor='white')\n",
    "# plt.title('Bar',fontsize=30)\n",
    "plt.errorbar(np.array([0.5,1.,1.5,2.,2.5,3.,3.5]),90-bar_angle_mean,yerr = [bar_angle_up,bar_angle_down],fmt='o',markersize=9, color='r',ecolor='r', elinewidth=1, capsize=5)\n",
    "plt.errorbar(np.array([0.5,1.,1.5,2.]),90-knot_angle_mean,yerr = [knot_angle_up,knot_angle_down],fmt='o',markersize=9, color='indigo',ecolor='indigo', elinewidth=1, capsize=5)\n",
    "plt.xlabel(r'$R$ [kpc]',fontsize=25)\n",
    "plt.ylabel(r'$\\theta_{\\mathrm{bar}}$ [degrees]',fontsize=25)\n",
    "plt.legend(loc='upper left',fontsize=20,frameon=False)\n",
    "plt.tick_params(which='major',labelsize=16,direction='in',top=True,right=True,length=8)\n",
    "plt.tick_params(which='minor', length=4, direction='in',top=True,right=True)\n",
    "plt.minorticks_on()\n",
    "# plt.yscale('log')\n",
    "plt.xlim(0,4)\n",
    "plt.ylim(0,90)\n",
    "\n",
    "\n"
   ]
  },
  {
   "cell_type": "code",
   "execution_count": 94,
   "id": "503a41e9",
   "metadata": {},
   "outputs": [
    {
     "name": "stderr",
     "output_type": "stream",
     "text": [
      "No artists with labels found to put in legend.  Note that artists whose label start with an underscore are ignored when legend() is called with no argument.\n"
     ]
    },
    {
     "data": {
      "image/png": "[encoded data removed]",
      "text/plain": [
       "<Figure size 576x432 with 1 Axes>"
      ]
     },
     "metadata": {},
     "output_type": "display_data"
    }
   ],
   "source": [
    "# bar_angle_mean = np.array([76.9,76.5,74., 69.5,74.4,73.6])\n",
    "# bar_angle_up = np.array([7.4,3.5,2.0,2.1,0.6,0.9])\n",
    "# bar_angle_down = np.array([6.6,3.6,2.0,2.1,0.6,0.9])\n",
    "bar_sigmasx_mean = np.array([49.2,49.7,59.3,63.3,56.1,85.5,78.3])\n",
    "bar_sigmasx_up = np.array([2.3,2.4,3.4,3.5,2.3,1.8,3.2])\n",
    "bar_sigmasx_down = np.array([2.3,2.3,3.4,3.5,1.9,1.5,3.0])\n",
    "\n",
    "knot_sigmasx_mean = np.array([10.9,10.6,10.9,10.4])\n",
    "knot_sigmasx_up = np.array([1.3,0.9,1.3,0.6])\n",
    "knot_sigmasx_down = np.array([0.7,0.5,0.7,0.3])\n",
    "\n",
    "bar_sigmasy_mean = np.array([38.8,47.3,55.0,65.6,101.2,184.7,197.1])\n",
    "bar_sigmasy_up = np.array([2.6,2.7,3.4,4.5,4.4,2.8,5.0])\n",
    "bar_sigmasy_down = np.array([2.6,2.5,3.3,4.1,4.1,3.0,4.6])\n",
    "\n",
    "\n",
    "knot_sigmasy_mean = np.array([10.1,10.1,10.5,12.1])\n",
    "knot_sigmasy_up = np.array([0.2,0.2,0.8,1.3])\n",
    "knot_sigmasy_down = np.array([0.1,0.1,0.4,1.1])\n",
    "\n",
    "rat_mean_bar = bar_sigmasy_mean/bar_sigmasx_mean\n",
    "rat_up_bar = bar_sigmasy_up/bar_sigmasx_up\n",
    "rat_low_bar = bar_sigmasy_down/bar_sigmasx_down\n",
    "\n",
    "rat_mean_knot = knot_sigmasy_mean/knot_sigmasx_mean\n",
    "rat_up_knot = knot_sigmasy_up/knot_sigmasx_up\n",
    "rat_low_knot = knot_sigmasy_down/knot_sigmasx_down\n",
    "\n",
    "plt.figure(figsize=(8,6),facecolor='white')\n",
    "# plt.title('Bar',fontsize=30)\n",
    "plt.errorbar(np.array([0.5,1.,1.5,2.,2.5,3.,3.5]),rat_mean_bar,yerr = [rat_up_bar,rat_low_bar],fmt='o',markersize=9, color='r',ecolor='r', elinewidth=1, capsize=5)\n",
    "plt.errorbar(np.array([0.5,1.,1.5,2.]),rat_mean_knot,yerr = [rat_up_knot,rat_low_knot],fmt='o',markersize=9, color='indigo',ecolor='indigo', elinewidth=1, capsize=5)\n",
    "plt.xlabel(r'$R$ [kpc]',fontsize=25)\n",
    "plt.ylabel(r'$\\sigma_{y}/\\sigma_{x}$',fontsize=25)\n",
    "plt.legend(loc='upper left',fontsize=20,frameon=False)\n",
    "plt.tick_params(which='major',labelsize=16,direction='in',top=True,right=True,length=8)\n",
    "plt.tick_params(which='minor', length=4, direction='in',top=True,right=True)\n",
    "plt.minorticks_on()\n",
    "# plt.yscale('log')\n",
    "# plt.xlim(0,4)\n",
    "# plt.ylim(0,90)\n",
    "\n"
   ]
  },
  {
   "cell_type": "code",
   "execution_count": null,
   "id": "d082e322",
   "metadata": {},
   "outputs": [],
   "source": []
  }
 ],
 "metadata": {
  "kernelspec": {
   "display_name": "Python 3 (ipykernel)",
   "language": "python",
   "name": "python3"
  },
  "language_info": {
   "codemirror_mode": {
    "name": "ipython",
    "version": 3
   },
   "file_extension": ".py",
   "mimetype": "text/x-python",
   "name": "python",
   "nbconvert_exporter": "python",
   "pygments_lexer": "ipython3",
   "version": "3.9.12"
  }
 },
 "nbformat": 4,
 "nbformat_minor": 5
}
